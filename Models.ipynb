{
 "cells": [
  {
   "cell_type": "markdown",
   "metadata": {},
   "source": [
    "### 1 ###\n",
    "a) Due to central limit theorem, assuming a gaussian distribution is usually the best idea.\n",
    "\n",
    "b) A spherical (or isotropic) covariance matrix is when the covariance matrix is proportional to the identity matrix, which means it is diagonal, and all diagonal elements are exactly the same. "
   ]
  },
  {
   "cell_type": "markdown",
   "metadata": {},
   "source": [
    "### 2 ###\n",
    "\n",
    "$$\n",
    "p(\\mathbf{Y} | f, \\mathbf{X}) = p(\\bigcap_i^N (y_i | f, x_i))\n",
    "$$"
   ]
  },
  {
   "cell_type": "markdown",
   "metadata": {
    "collapsed": true
   },
   "source": [
    "### 3 ###\n",
    "\n",
    "$$\n",
    "p(\\mathbf{Y} | \\mathbf{X}, \\mathbf{W}) = \\prod_{n=1}^{N} N(y_i | w^T \\phi(x_n))\n",
    "$$\n",
    "\n",
    "Something to do with this:\n",
    "\n",
    "$$\n",
    "p(t | x, w) = N(t | y(x, w), \\beta - 1)\n",
    "$$\n",
    "\n",
    "Assumption is that the data points in Y are drawn independently from the distribution"
   ]
  },
  {
   "cell_type": "markdown",
   "metadata": {
    "collapsed": true
   },
   "source": [
    "### 4 ###\n",
    "\n",
    "Conjugate distributions occur when a prior and a posterior distribution are of the same family, in this case the prior is called a conjugate prior.\n",
    "\n",
    "A conjugate prior is helpful, as if we choose to use a Gaussian conjugate prior, it ensures that our posterior is also a Gaussian, since Gaussian distributions are conjugate to themselves.\n",
    "A conjugate prior gives a closed-form expression for the posterior, which prevents integration which may be otherwise necessary.\n",
    "Additionally, conjugate priors can more easily show how a likelihood function updates the prior."
   ]
  },
  {
   "cell_type": "code",
   "execution_count": null,
   "metadata": {
    "collapsed": true
   },
   "outputs": [],
   "source": []
  }
 ],
 "metadata": {
  "kernelspec": {
   "display_name": "Python 3",
   "language": "python",
   "name": "python3"
  },
  "language_info": {
   "codemirror_mode": {
    "name": "ipython",
    "version": 3
   },
   "file_extension": ".py",
   "mimetype": "text/x-python",
   "name": "python",
   "nbconvert_exporter": "python",
   "pygments_lexer": "ipython3",
   "version": "3.6.0"
  }
 },
 "nbformat": 4,
 "nbformat_minor": 2
}
